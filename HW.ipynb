{
 "cells": [
  {
   "cell_type": "code",
   "execution_count": 4,
   "metadata": {},
   "outputs": [
    {
     "name": "stdout",
     "output_type": "stream",
     "text": [
      "Requirement already satisfied: hazm in /usr/local/anaconda3/lib/python3.9/site-packages (0.10.0)\n",
      "Requirement already satisfied: python-crfsuite<0.10.0,>=0.9.9 in /usr/local/anaconda3/lib/python3.9/site-packages (from hazm) (0.9.10)\n",
      "Requirement already satisfied: flashtext<3.0,>=2.7 in /usr/local/anaconda3/lib/python3.9/site-packages (from hazm) (2.7)\n",
      "Requirement already satisfied: fasttext-wheel<0.10.0,>=0.9.2 in /usr/local/anaconda3/lib/python3.9/site-packages (from hazm) (0.9.2)\n",
      "Requirement already satisfied: scikit-learn<2.0.0,>=1.2.2 in /usr/local/anaconda3/lib/python3.9/site-packages (from hazm) (1.4.2)\n",
      "Requirement already satisfied: nltk<4.0.0,>=3.8.1 in /usr/local/anaconda3/lib/python3.9/site-packages (from hazm) (3.8.1)\n",
      "Requirement already satisfied: gensim<5.0.0,>=4.3.1 in /usr/local/anaconda3/lib/python3.9/site-packages (from hazm) (4.3.2)\n",
      "Requirement already satisfied: numpy==1.24.3 in /usr/local/anaconda3/lib/python3.9/site-packages (from hazm) (1.24.3)\n",
      "Requirement already satisfied: pybind11>=2.2 in /usr/local/anaconda3/lib/python3.9/site-packages (from fasttext-wheel<0.10.0,>=0.9.2->hazm) (2.12.0)\n",
      "Requirement already satisfied: setuptools>=0.7.0 in /usr/local/anaconda3/lib/python3.9/site-packages (from fasttext-wheel<0.10.0,>=0.9.2->hazm) (61.2.0)\n",
      "Requirement already satisfied: smart-open>=1.8.1 in /usr/local/anaconda3/lib/python3.9/site-packages (from gensim<5.0.0,>=4.3.1->hazm) (6.4.0)\n",
      "Requirement already satisfied: scipy>=1.7.0 in /usr/local/anaconda3/lib/python3.9/site-packages (from gensim<5.0.0,>=4.3.1->hazm) (1.10.1)\n",
      "Requirement already satisfied: joblib in /usr/local/anaconda3/lib/python3.9/site-packages (from nltk<4.0.0,>=3.8.1->hazm) (1.4.2)\n",
      "Requirement already satisfied: click in /usr/local/anaconda3/lib/python3.9/site-packages (from nltk<4.0.0,>=3.8.1->hazm) (8.0.4)\n",
      "Requirement already satisfied: regex>=2021.8.3 in /usr/local/anaconda3/lib/python3.9/site-packages (from nltk<4.0.0,>=3.8.1->hazm) (2022.3.15)\n",
      "Requirement already satisfied: tqdm in /usr/local/anaconda3/lib/python3.9/site-packages (from nltk<4.0.0,>=3.8.1->hazm) (4.64.0)\n",
      "Requirement already satisfied: threadpoolctl>=2.0.0 in /usr/local/anaconda3/lib/python3.9/site-packages (from scikit-learn<2.0.0,>=1.2.2->hazm) (2.2.0)\n"
     ]
    }
   ],
   "source": [
    "!pip install hazm"
   ]
  },
  {
   "cell_type": "code",
   "execution_count": 7,
   "metadata": {},
   "outputs": [],
   "source": [
    "text = \"حتما کار خیریه موسسه اکبر را در تاریخ ۳۰ فروردین پیگیری بکنم.\""
   ]
  },
  {
   "cell_type": "code",
   "execution_count": 8,
   "metadata": {},
   "outputs": [
    {
     "name": "stdout",
     "output_type": "stream",
     "text": [
      "None\n",
      "None\n",
      "None\n",
      "None\n",
      "None\n",
      "None\n",
      "None\n",
      "None\n",
      "None\n",
      "None\n",
      "None\n",
      "None\n",
      "None\n",
      "[]\n"
     ]
    }
   ],
   "source": [
    "from task_extractor.extractor import TaskExtractor\n",
    "\n",
    "extractor = TaskExtractor()\n",
    "extractor.run(text)\n",
    "print(extractor.tasks)\n"
   ]
  },
  {
   "cell_type": "code",
   "execution_count": null,
   "metadata": {},
   "outputs": [],
   "source": []
  },
  {
   "cell_type": "code",
   "execution_count": 3,
   "metadata": {},
   "outputs": [
    {
     "name": "stdout",
     "output_type": "stream",
     "text": [
      "یادم بندازید گوز را دو روز یک‌بار شروع کنم.\n",
      "<task_extractor.parser.MixedRegexpParser object at 0x7feb4add9f40>\n",
      "<task_extractor.parser.MixedRegexpParser object at 0x7feb4add9a90>\n",
      "<task_extractor.parser.MixedRegexpParser object at 0x7feb4add9a00>\n",
      "<task_extractor.parser.MixedRegexpParser object at 0x7feb4add9370>\n",
      "<task_extractor.parser.MixedRegexpParser object at 0x7feb4add9460>\n",
      "<task_extractor.parser.MixedRegexpParser object at 0x7feb4add9790>\n",
      "<task_extractor.parser.MixedRegexpParser object at 0x7feb4add9e80>\n",
      "<task_extractor.parser.MixedRegexpParser object at 0x7feb4add9fa0>\n",
      "<task_extractor.parser.MixedRegexpParser object at 0x7feb4add9580>\n",
      "<task_extractor.parser.MixedRegexpParser object at 0x7feb4add9df0>\n",
      "<task_extractor.parser.MixedRegexpParser object at 0x7feb4add9fd0>\n",
      "<task_extractor.parser.MixedRegexpParser object at 0x7feb4addbc40>\n",
      "<task_extractor.parser.MixedRegexpParser object at 0x7feb4addb8e0>\n",
      "<task_extractor.parser.MixedRegexpParser object at 0x7feb4addbe80>\n",
      "<task_extractor.parser.MixedRegexpParser object at 0x7feb4addb9d0>\n",
      "<task_extractor.parser.MixedRegexpParser object at 0x7feb4addbd90>\n",
      "<task_extractor.parser.MixedRegexpParser object at 0x7feb4addb670>\n",
      "<task_extractor.parser.MixedRegexpParser object at 0x7feb4addb3d0>\n",
      "<task_extractor.parser.MixedRegexpParser object at 0x7feb4addbe20>\n",
      "<task_extractor.parser.MixedRegexpParser object at 0x7feb4addbf70>\n",
      "<task_extractor.parser.MixedRegexpParser object at 0x7feb79b3f6d0>\n",
      "<task_extractor.parser.MixedRegexpParser object at 0x7feb79b3fdf0>\n",
      "[{\n",
      "    \"name\": \"گوز\",\n",
      "    \"start_date\": \"\",\n",
      "    \"end_date\": \"\",\n",
      "    \"new_date\": \"\",\n",
      "    \"is_done\": false,\n",
      "    \"is_cancelled\": false,\n",
      "    \"period\": \"دو روز\"\n",
      "}, {\n",
      "    \"name\": \"گوز\",\n",
      "    \"start_date\": \"\",\n",
      "    \"end_date\": \"\",\n",
      "    \"new_date\": \"\",\n",
      "    \"is_done\": false,\n",
      "    \"is_cancelled\": false\n",
      "}]\n"
     ]
    }
   ],
   "source": [
    "from task_extractor.extractor import EventExtractor\n",
    "\n",
    "\n",
    "extractor = EventExtractor()\n",
    "extractor.run(text)\n",
    "print(extractor.events)"
   ]
  }
 ],
 "metadata": {
  "kernelspec": {
   "display_name": "Python 3",
   "language": "python",
   "name": "python3"
  },
  "language_info": {
   "codemirror_mode": {
    "name": "ipython",
    "version": 3
   },
   "file_extension": ".py",
   "mimetype": "text/x-python",
   "name": "python",
   "nbconvert_exporter": "python",
   "pygments_lexer": "ipython3",
   "version": "3.9.7"
  }
 },
 "nbformat": 4,
 "nbformat_minor": 2
}
