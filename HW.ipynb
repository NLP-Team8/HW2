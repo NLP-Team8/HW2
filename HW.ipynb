{
 "cells": [
  {
   "cell_type": "code",
   "execution_count": 2,
   "metadata": {},
   "outputs": [],
   "source": [
    "text = \"یادم بندازید گوز را دو روز یک بار شروع کنم.\""
   ]
  },
  {
   "cell_type": "code",
   "execution_count": 3,
   "metadata": {},
   "outputs": [
    {
     "ename": "ModuleNotFoundError",
     "evalue": "No module named 'hazm'",
     "output_type": "error",
     "traceback": [
      "\u001b[0;31m---------------------------------------------------------------------------\u001b[0m",
      "\u001b[0;31mModuleNotFoundError\u001b[0m                       Traceback (most recent call last)",
      "Cell \u001b[0;32mIn [3], line 1\u001b[0m\n\u001b[0;32m----> 1\u001b[0m \u001b[38;5;28;01mfrom\u001b[39;00m \u001b[38;5;21;01mtask_extractor\u001b[39;00m\u001b[38;5;21;01m.\u001b[39;00m\u001b[38;5;21;01mextractor\u001b[39;00m \u001b[38;5;28;01mimport\u001b[39;00m TaskExtractor\n\u001b[1;32m      3\u001b[0m extractor \u001b[38;5;241m=\u001b[39m TaskExtractor()\n\u001b[1;32m      4\u001b[0m extractor\u001b[38;5;241m.\u001b[39mrun(text)\n",
      "File \u001b[0;32m~/Desktop/NLP/task_extractor/extractor.py:2\u001b[0m\n\u001b[1;32m      1\u001b[0m \u001b[38;5;28;01mimport\u001b[39;00m \u001b[38;5;21;01mjson\u001b[39;00m\n\u001b[0;32m----> 2\u001b[0m \u001b[38;5;28;01mimport\u001b[39;00m \u001b[38;5;21;01mhazm\u001b[39;00m\n\u001b[1;32m      3\u001b[0m \u001b[38;5;28;01mfrom\u001b[39;00m \u001b[38;5;21;01mtask_extractor\u001b[39;00m\u001b[38;5;21;01m.\u001b[39;00m\u001b[38;5;21;01mpatterns\u001b[39;00m \u001b[38;5;28;01mimport\u001b[39;00m Patterns\n\u001b[1;32m      4\u001b[0m \u001b[38;5;28;01mimport\u001b[39;00m \u001b[38;5;21;01mre\u001b[39;00m\n",
      "\u001b[0;31mModuleNotFoundError\u001b[0m: No module named 'hazm'"
     ]
    }
   ],
   "source": [
    "from task_extractor.extractor import TaskExtractor\n",
    "\n",
    "extractor = TaskExtractor()\n",
    "extractor.run(text)\n",
    "print(extractor.tasks)\n"
   ]
  },
  {
   "cell_type": "code",
   "execution_count": null,
   "metadata": {},
   "outputs": [],
   "source": []
  },
  {
   "cell_type": "code",
   "execution_count": 3,
   "metadata": {},
   "outputs": [
    {
     "name": "stdout",
     "output_type": "stream",
     "text": [
      "یادم بندازید گوز را دو روز یک‌بار شروع کنم.\n",
      "<task_extractor.parser.MixedRegexpParser object at 0x7feb4add9f40>\n",
      "<task_extractor.parser.MixedRegexpParser object at 0x7feb4add9a90>\n",
      "<task_extractor.parser.MixedRegexpParser object at 0x7feb4add9a00>\n",
      "<task_extractor.parser.MixedRegexpParser object at 0x7feb4add9370>\n",
      "<task_extractor.parser.MixedRegexpParser object at 0x7feb4add9460>\n",
      "<task_extractor.parser.MixedRegexpParser object at 0x7feb4add9790>\n",
      "<task_extractor.parser.MixedRegexpParser object at 0x7feb4add9e80>\n",
      "<task_extractor.parser.MixedRegexpParser object at 0x7feb4add9fa0>\n",
      "<task_extractor.parser.MixedRegexpParser object at 0x7feb4add9580>\n",
      "<task_extractor.parser.MixedRegexpParser object at 0x7feb4add9df0>\n",
      "<task_extractor.parser.MixedRegexpParser object at 0x7feb4add9fd0>\n",
      "<task_extractor.parser.MixedRegexpParser object at 0x7feb4addbc40>\n",
      "<task_extractor.parser.MixedRegexpParser object at 0x7feb4addb8e0>\n",
      "<task_extractor.parser.MixedRegexpParser object at 0x7feb4addbe80>\n",
      "<task_extractor.parser.MixedRegexpParser object at 0x7feb4addb9d0>\n",
      "<task_extractor.parser.MixedRegexpParser object at 0x7feb4addbd90>\n",
      "<task_extractor.parser.MixedRegexpParser object at 0x7feb4addb670>\n",
      "<task_extractor.parser.MixedRegexpParser object at 0x7feb4addb3d0>\n",
      "<task_extractor.parser.MixedRegexpParser object at 0x7feb4addbe20>\n",
      "<task_extractor.parser.MixedRegexpParser object at 0x7feb4addbf70>\n",
      "<task_extractor.parser.MixedRegexpParser object at 0x7feb79b3f6d0>\n",
      "<task_extractor.parser.MixedRegexpParser object at 0x7feb79b3fdf0>\n",
      "[{\n",
      "    \"name\": \"گوز\",\n",
      "    \"start_date\": \"\",\n",
      "    \"end_date\": \"\",\n",
      "    \"new_date\": \"\",\n",
      "    \"is_done\": false,\n",
      "    \"is_cancelled\": false,\n",
      "    \"period\": \"دو روز\"\n",
      "}, {\n",
      "    \"name\": \"گوز\",\n",
      "    \"start_date\": \"\",\n",
      "    \"end_date\": \"\",\n",
      "    \"new_date\": \"\",\n",
      "    \"is_done\": false,\n",
      "    \"is_cancelled\": false\n",
      "}]\n"
     ]
    }
   ],
   "source": [
    "from task_extractor.extractor import EventExtractor\n",
    "\n",
    "\n",
    "extractor = EventExtractor()\n",
    "extractor.run(text)\n",
    "print(extractor.events)"
   ]
  }
 ],
 "metadata": {
  "kernelspec": {
   "display_name": "Python 3",
   "language": "python",
   "name": "python3"
  },
  "language_info": {
   "codemirror_mode": {
    "name": "ipython",
    "version": 3
   },
   "file_extension": ".py",
   "mimetype": "text/x-python",
   "name": "python",
   "nbconvert_exporter": "python",
   "pygments_lexer": "ipython3",
   "version": "3.9.7"
  }
 },
 "nbformat": 4,
 "nbformat_minor": 2
}
